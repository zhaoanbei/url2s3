{
 "cells": [
  {
   "cell_type": "code",
   "execution_count": 2,
   "id": "dae45f6e-3060-4110-a855-ec48386bdf1b",
   "metadata": {
    "scrolled": true,
    "tags": []
   },
   "outputs": [
    {
     "name": "stdout",
     "output_type": "stream",
     "text": [
      "Looking in indexes: https://pypi.tuna.tsinghua.edu.cn/simple\n",
      "Collecting boto3\n",
      "  Downloading https://pypi.tuna.tsinghua.edu.cn/packages/22/85/cd98a41c54b890cf3f4b683b04699070d35fad56f97865976480dcf33c65/boto3-1.26.14-py3-none-any.whl (132 kB)\n",
      "\u001b[K     |████████████████████████████████| 132 kB 50 kB/s eta 0:00:011\n",
      "\u001b[?25hCollecting s3transfer<0.7.0,>=0.6.0\n",
      "  Using cached https://pypi.tuna.tsinghua.edu.cn/packages/5e/c6/af903b5fab3f9b5b1e883f49a770066314c6dcceb589cf938d48c89556c1/s3transfer-0.6.0-py3-none-any.whl (79 kB)\n",
      "Collecting jmespath<2.0.0,>=0.7.1\n",
      "  Using cached https://pypi.tuna.tsinghua.edu.cn/packages/31/b4/b9b800c45527aadd64d5b442f9b932b00648617eb5d63d2c7a6587b7cafc/jmespath-1.0.1-py3-none-any.whl (20 kB)\n",
      "Collecting botocore<1.30.0,>=1.29.14\n",
      "  Downloading https://pypi.tuna.tsinghua.edu.cn/packages/52/b4/dc4ecbfe875dacba54f2f39791f4f2e00acdc740847148d6b2e23aed11d6/botocore-1.29.14-py3-none-any.whl (9.9 MB)\n",
      "\u001b[K     |████████████████████████████████| 9.9 MB 17 kB/s eta 0:00:0196\n",
      "\u001b[?25hRequirement already satisfied: python-dateutil<3.0.0,>=2.1 in /usr/local/Caskroom/miniconda/base/lib/python3.8/site-packages (from botocore<1.30.0,>=1.29.14->boto3) (2.8.2)\n",
      "Requirement already satisfied: urllib3<1.27,>=1.25.4 in /usr/local/Caskroom/miniconda/base/lib/python3.8/site-packages (from botocore<1.30.0,>=1.29.14->boto3) (1.25.11)\n",
      "Requirement already satisfied: six>=1.5 in /usr/local/Caskroom/miniconda/base/lib/python3.8/site-packages (from python-dateutil<3.0.0,>=2.1->botocore<1.30.0,>=1.29.14->boto3) (1.15.0)\n",
      "Installing collected packages: jmespath, botocore, s3transfer, boto3\n",
      "Successfully installed boto3-1.26.14 botocore-1.29.14 jmespath-1.0.1 s3transfer-0.6.0\n"
     ]
    }
   ],
   "source": [
    "!pip3 install boto3"
   ]
  },
  {
   "cell_type": "code",
   "execution_count": 36,
   "id": "422ed9c7-a716-48e8-8bf9-539eea766852",
   "metadata": {},
   "outputs": [],
   "source": [
    "import boto3\n",
    "import json\n",
    "import logging\n",
    "\n",
    "cn = boto3.session.Session(profile_name='cn')\n",
    "\n",
    "lambda_client = cn.client('lambda')\n",
    "para = {\n",
    "  \"url\": \"https://dinoanimals.com/wp-content/uploads/2021/01/Burmese-cat-16.jpg\",\n",
    "  \"bucket\": \"anbei-show\",\n",
    "  \"prefix\": \"url2s3\"\n",
    "}\n",
    "class LambdaWrapper:\n",
    "    def __init__(self, lambda_client):\n",
    "        self.lambda_client = lambda_client\n",
    "\n",
    "    def invoke_function(self, function_name, function_params, get_log=False):\n",
    "        response = self.lambda_client.invoke(\n",
    "            FunctionName=function_name,\n",
    "            Payload=json.dumps(function_params),\n",
    "            LogType='Tail' if get_log else 'None')\n",
    "        logging.info(\"Invoked function %s.\", function_name)\n",
    "        return json.loads(response['Payload'].read().decode(\"utf-8\"))\n",
    "    \n",
    "response = LambdaWrapper(lambda_client).invoke_function('url2s3',para)\n",
    "s3path = response['headers']['s3path']"
   ]
  },
  {
   "cell_type": "code",
   "execution_count": 37,
   "id": "74bee5d9-1f7a-4958-b4c9-d74b50f25f2c",
   "metadata": {},
   "outputs": [
    {
     "data": {
      "text/plain": [
       "'s3://anbei-show/url2s3/Burmese-cat-16.jpg'"
      ]
     },
     "execution_count": 37,
     "metadata": {},
     "output_type": "execute_result"
    }
   ],
   "source": [
    "s3path"
   ]
  }
 ],
 "metadata": {
  "kernelspec": {
   "display_name": "Python 3",
   "language": "python",
   "name": "python3"
  },
  "language_info": {
   "codemirror_mode": {
    "name": "ipython",
    "version": 3
   },
   "file_extension": ".py",
   "mimetype": "text/x-python",
   "name": "python",
   "nbconvert_exporter": "python",
   "pygments_lexer": "ipython3",
   "version": "3.8.12"
  }
 },
 "nbformat": 4,
 "nbformat_minor": 5
}
